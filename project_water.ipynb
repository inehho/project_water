{
 "cells": [
  {
   "cell_type": "code",
   "execution_count": null,
   "metadata": {},
   "outputs": [],
   "source": [
    "#import dependencies \n",
    "\n",
    "import csv\n",
    "import pandas as pd\n",
    "import os\n"
   ]
  },
  {
   "cell_type": "code",
   "execution_count": null,
   "metadata": {},
   "outputs": [],
   "source": [
    "#pull data from csvs \n",
    "\n",
    "fao_data_csv = \"Resources/aquastatt.csv.csv\"\n",
    "who_data_csv = \"Resources/choleraa.csv.csv\"\n",
    "\n",
    "fao_data=pd.read_csv(fao_data_csv)\n",
    "who_data = pd.read_csv(who_data_csv)\n",
    "\n",
    "#test FAO data\n",
    "fao_data.head()"
   ]
  },
  {
   "cell_type": "code",
   "execution_count": null,
   "metadata": {},
   "outputs": [],
   "source": [
    "#check columns \n",
    "\n",
    "fao_data.columns"
   ]
  },
  {
   "cell_type": "code",
   "execution_count": null,
   "metadata": {},
   "outputs": [],
   "source": [
    "#data came in with country name as the index - rename \n",
    "\n",
    "fao_data.index.name = \"Country\"\n",
    "fao_data.head()"
   ]
  },
  {
   "cell_type": "code",
   "execution_count": null,
   "metadata": {},
   "outputs": [],
   "source": [
    "#data came in with column data offset from \"real\" column names. Filter out \"right data\" with wrong column headers\n",
    "\n",
    "fao_cleanup = fao_data[[\"Area Id\", \"Variable Id\", \"Year\"]]\n",
    "\n",
    "fao_cleanup.head()"
   ]
  },
  {
   "cell_type": "code",
   "execution_count": null,
   "metadata": {},
   "outputs": [],
   "source": [
    "#use .loc to filter out just rows with country names at head (take out rows at end that don't have data)\n",
    "\n",
    "fao_targets = fao_cleanup.loc[[\"Myanmar\",\"Niger\", \"Nigeria\", \"Thailand\"]]\n",
    "fao_final = fao_targets.rename(columns={\"Area Id\":\"Indicator\", \"Variable Id\":\"Year\", \"Year\" : \"Value\"})\n",
    "\n",
    "#convert year data to integers \n",
    "\n",
    "fao_final[\"Year\"] = fao_final[\"Year\"].astype(int)\n",
    "\n",
    "#reset the index so the country isn't the index anymore\n",
    "\n",
    "fao_indexed = fao_final.reset_index()\n",
    "\n",
    "# for country in fao_final:\n",
    "#     if fao_final[\"Value\"] == \"NaN\":\n",
    "#         fao_final[\"Value\"] = 0\n",
    "        \n",
    "fao_indexed"
   ]
  },
  {
   "cell_type": "code",
   "execution_count": null,
   "metadata": {},
   "outputs": [],
   "source": [
    "fao_byindicator = fao_indexed.groupby([\"Indicator\"][\"Country\"]).count()\n",
    "\n",
    "fao_byindicator"
   ]
  },
  {
   "cell_type": "code",
   "execution_count": null,
   "metadata": {},
   "outputs": [],
   "source": []
  },
  {
   "cell_type": "code",
   "execution_count": null,
   "metadata": {},
   "outputs": [],
   "source": []
  }
 ],
 "metadata": {
  "kernelspec": {
   "display_name": "Python [conda env:PythonData]",
   "language": "python",
   "name": "conda-env-PythonData-py"
  }
 },
 "nbformat": 4,
 "nbformat_minor": 2
}
