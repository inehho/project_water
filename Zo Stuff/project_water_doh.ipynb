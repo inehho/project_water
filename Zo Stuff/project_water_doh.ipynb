{
 "cells": [
  {
   "cell_type": "code",
   "execution_count": 1,
   "metadata": {},
   "outputs": [],
   "source": [
    "#import dependencies \n",
    "\n",
    "import csv\n",
    "import pandas as pd\n",
    "import os\n",
    "import matplotlib.pyplot as plt\n",
    "import numpy as np\n",
    "import seaborn\n",
    "from scipy.stats import linregress"
   ]
  },
  {
   "cell_type": "code",
   "execution_count": 2,
   "metadata": {},
   "outputs": [
    {
     "data": {
      "text/html": [
       "<div>\n",
       "<style scoped>\n",
       "    .dataframe tbody tr th:only-of-type {\n",
       "        vertical-align: middle;\n",
       "    }\n",
       "\n",
       "    .dataframe tbody tr th {\n",
       "        vertical-align: top;\n",
       "    }\n",
       "\n",
       "    .dataframe thead th {\n",
       "        text-align: right;\n",
       "    }\n",
       "</style>\n",
       "<table border=\"1\" class=\"dataframe\">\n",
       "  <thead>\n",
       "    <tr style=\"text-align: right;\">\n",
       "      <th></th>\n",
       "      <th>Area</th>\n",
       "      <th>Area Id</th>\n",
       "      <th>Variable Name</th>\n",
       "      <th>Variable Id</th>\n",
       "      <th>Year</th>\n",
       "      <th>Value</th>\n",
       "      <th>Symbol</th>\n",
       "      <th>Md</th>\n",
       "    </tr>\n",
       "  </thead>\n",
       "  <tbody>\n",
       "    <tr>\n",
       "      <th>0</th>\n",
       "      <td>Myanmar</td>\n",
       "      <td>28.0</td>\n",
       "      <td>Dependency ratio</td>\n",
       "      <td>4192.0</td>\n",
       "      <td>1992.0</td>\n",
       "      <td>14.13</td>\n",
       "      <td>I</td>\n",
       "      <td>NaN</td>\n",
       "    </tr>\n",
       "    <tr>\n",
       "      <th>1</th>\n",
       "      <td>Myanmar</td>\n",
       "      <td>28.0</td>\n",
       "      <td>Dependency ratio</td>\n",
       "      <td>4192.0</td>\n",
       "      <td>1997.0</td>\n",
       "      <td>14.13</td>\n",
       "      <td>I</td>\n",
       "      <td>NaN</td>\n",
       "    </tr>\n",
       "    <tr>\n",
       "      <th>2</th>\n",
       "      <td>Myanmar</td>\n",
       "      <td>28.0</td>\n",
       "      <td>Dependency ratio</td>\n",
       "      <td>4192.0</td>\n",
       "      <td>2002.0</td>\n",
       "      <td>14.13</td>\n",
       "      <td>I</td>\n",
       "      <td>NaN</td>\n",
       "    </tr>\n",
       "    <tr>\n",
       "      <th>3</th>\n",
       "      <td>Myanmar</td>\n",
       "      <td>28.0</td>\n",
       "      <td>Dependency ratio</td>\n",
       "      <td>4192.0</td>\n",
       "      <td>2007.0</td>\n",
       "      <td>14.13</td>\n",
       "      <td>I</td>\n",
       "      <td>NaN</td>\n",
       "    </tr>\n",
       "    <tr>\n",
       "      <th>4</th>\n",
       "      <td>Myanmar</td>\n",
       "      <td>28.0</td>\n",
       "      <td>Dependency ratio</td>\n",
       "      <td>4192.0</td>\n",
       "      <td>2012.0</td>\n",
       "      <td>14.13</td>\n",
       "      <td>I</td>\n",
       "      <td>NaN</td>\n",
       "    </tr>\n",
       "  </tbody>\n",
       "</table>\n",
       "</div>"
      ],
      "text/plain": [
       "      Area  Area Id     Variable Name  Variable Id    Year  Value Symbol   Md\n",
       "0  Myanmar     28.0  Dependency ratio       4192.0  1992.0  14.13      I  NaN\n",
       "1  Myanmar     28.0  Dependency ratio       4192.0  1997.0  14.13      I  NaN\n",
       "2  Myanmar     28.0  Dependency ratio       4192.0  2002.0  14.13      I  NaN\n",
       "3  Myanmar     28.0  Dependency ratio       4192.0  2007.0  14.13      I  NaN\n",
       "4  Myanmar     28.0  Dependency ratio       4192.0  2012.0  14.13      I  NaN"
      ]
     },
     "execution_count": 2,
     "metadata": {},
     "output_type": "execute_result"
    }
   ],
   "source": [
    "#pull data from csvs \n",
    "\n",
    "fao_data_csv = \"Resources/aquastatt.csv\"\n",
    "who_data_csv = \"Resources/choleraa.csv\"\n",
    "\n",
    "fao_data=pd.read_csv(fao_data_csv)\n",
    "chol_data = pd.read_csv(who_data_csv)\n",
    "\n",
    "#test FAO data\n",
    "fao_data.head()"
   ]
  },
  {
   "cell_type": "code",
   "execution_count": 3,
   "metadata": {},
   "outputs": [
    {
     "data": {
      "text/plain": [
       "Index(['Area', 'Area Id', 'Variable Name', 'Variable Id', 'Year', 'Value',\n",
       "       'Symbol', 'Md'],\n",
       "      dtype='object')"
      ]
     },
     "execution_count": 3,
     "metadata": {},
     "output_type": "execute_result"
    }
   ],
   "source": [
    "#check columns \n",
    "#what??\n",
    "fao_data.columns"
   ]
  },
  {
   "cell_type": "code",
   "execution_count": 4,
   "metadata": {},
   "outputs": [
    {
     "data": {
      "text/html": [
       "<div>\n",
       "<style scoped>\n",
       "    .dataframe tbody tr th:only-of-type {\n",
       "        vertical-align: middle;\n",
       "    }\n",
       "\n",
       "    .dataframe tbody tr th {\n",
       "        vertical-align: top;\n",
       "    }\n",
       "\n",
       "    .dataframe thead th {\n",
       "        text-align: right;\n",
       "    }\n",
       "</style>\n",
       "<table border=\"1\" class=\"dataframe\">\n",
       "  <thead>\n",
       "    <tr style=\"text-align: right;\">\n",
       "      <th></th>\n",
       "      <th>Area</th>\n",
       "      <th>Variable Name</th>\n",
       "      <th>Year</th>\n",
       "      <th>Value</th>\n",
       "    </tr>\n",
       "  </thead>\n",
       "  <tbody>\n",
       "    <tr>\n",
       "      <th>0</th>\n",
       "      <td>Myanmar</td>\n",
       "      <td>Dependency ratio</td>\n",
       "      <td>1992.0</td>\n",
       "      <td>14.13</td>\n",
       "    </tr>\n",
       "    <tr>\n",
       "      <th>1</th>\n",
       "      <td>Myanmar</td>\n",
       "      <td>Dependency ratio</td>\n",
       "      <td>1997.0</td>\n",
       "      <td>14.13</td>\n",
       "    </tr>\n",
       "    <tr>\n",
       "      <th>2</th>\n",
       "      <td>Myanmar</td>\n",
       "      <td>Dependency ratio</td>\n",
       "      <td>2002.0</td>\n",
       "      <td>14.13</td>\n",
       "    </tr>\n",
       "    <tr>\n",
       "      <th>3</th>\n",
       "      <td>Myanmar</td>\n",
       "      <td>Dependency ratio</td>\n",
       "      <td>2007.0</td>\n",
       "      <td>14.13</td>\n",
       "    </tr>\n",
       "    <tr>\n",
       "      <th>4</th>\n",
       "      <td>Myanmar</td>\n",
       "      <td>Dependency ratio</td>\n",
       "      <td>2012.0</td>\n",
       "      <td>14.13</td>\n",
       "    </tr>\n",
       "  </tbody>\n",
       "</table>\n",
       "</div>"
      ],
      "text/plain": [
       "      Area     Variable Name    Year  Value\n",
       "0  Myanmar  Dependency ratio  1992.0  14.13\n",
       "1  Myanmar  Dependency ratio  1997.0  14.13\n",
       "2  Myanmar  Dependency ratio  2002.0  14.13\n",
       "3  Myanmar  Dependency ratio  2007.0  14.13\n",
       "4  Myanmar  Dependency ratio  2012.0  14.13"
      ]
     },
     "execution_count": 4,
     "metadata": {},
     "output_type": "execute_result"
    }
   ],
   "source": [
    "#data came in with column data offset from \"real\" column names. Filter out \"right data\" with wrong column headers\n",
    "\n",
    "fao_cleanup = fao_data[[\"Area\", \"Variable Name\", \"Year\", \"Value\"]]\n",
    "\n",
    "fao_cleanup.head()"
   ]
  },
  {
   "cell_type": "code",
   "execution_count": 5,
   "metadata": {},
   "outputs": [
    {
     "data": {
      "text/html": [
       "<div>\n",
       "<style scoped>\n",
       "    .dataframe tbody tr th:only-of-type {\n",
       "        vertical-align: middle;\n",
       "    }\n",
       "\n",
       "    .dataframe tbody tr th {\n",
       "        vertical-align: top;\n",
       "    }\n",
       "\n",
       "    .dataframe thead th {\n",
       "        text-align: right;\n",
       "    }\n",
       "</style>\n",
       "<table border=\"1\" class=\"dataframe\">\n",
       "  <thead>\n",
       "    <tr style=\"text-align: right;\">\n",
       "      <th></th>\n",
       "      <th>COUNTRY (DISPLAY)</th>\n",
       "      <th>YEAR (DISPLAY)</th>\n",
       "      <th>Display Value</th>\n",
       "    </tr>\n",
       "  </thead>\n",
       "  <tbody>\n",
       "    <tr>\n",
       "      <th>0</th>\n",
       "      <td>Afghanistan</td>\n",
       "      <td>1960</td>\n",
       "      <td>887</td>\n",
       "    </tr>\n",
       "    <tr>\n",
       "      <th>1</th>\n",
       "      <td>Bangladesh</td>\n",
       "      <td>1960</td>\n",
       "      <td>15618</td>\n",
       "    </tr>\n",
       "    <tr>\n",
       "      <th>2</th>\n",
       "      <td>India</td>\n",
       "      <td>1960</td>\n",
       "      <td>14621</td>\n",
       "    </tr>\n",
       "    <tr>\n",
       "      <th>3</th>\n",
       "      <td>Indonesia</td>\n",
       "      <td>1960</td>\n",
       "      <td>41</td>\n",
       "    </tr>\n",
       "    <tr>\n",
       "      <th>4</th>\n",
       "      <td>Myanmar</td>\n",
       "      <td>1960</td>\n",
       "      <td>259</td>\n",
       "    </tr>\n",
       "  </tbody>\n",
       "</table>\n",
       "</div>"
      ],
      "text/plain": [
       "  COUNTRY (DISPLAY)  YEAR (DISPLAY)  Display Value\n",
       "0       Afghanistan            1960            887\n",
       "1        Bangladesh            1960          15618\n",
       "2             India            1960          14621\n",
       "3         Indonesia            1960             41\n",
       "4           Myanmar            1960            259"
      ]
     },
     "execution_count": 5,
     "metadata": {},
     "output_type": "execute_result"
    }
   ],
   "source": [
    "#Testing file_2\n",
    "count2 = len(chol_data[\"COUNTRY (DISPLAY)\"].value_counts())\n",
    "# print(chol_data[\"COUNTRY (DISPLAY)\"])\n",
    "#creating a new dataframe with selected columns\n",
    "clean_data = chol_data[[\"COUNTRY (DISPLAY)\",\"YEAR (DISPLAY)\",\"Display Value\"]]\n",
    "\n",
    "clean_df = pd.DataFrame(clean_data)\n",
    "\n",
    "clean_df.head()\n"
   ]
  },
  {
   "cell_type": "code",
   "execution_count": 6,
   "metadata": {},
   "outputs": [
    {
     "data": {
      "text/html": [
       "<div>\n",
       "<style scoped>\n",
       "    .dataframe tbody tr th:only-of-type {\n",
       "        vertical-align: middle;\n",
       "    }\n",
       "\n",
       "    .dataframe tbody tr th {\n",
       "        vertical-align: top;\n",
       "    }\n",
       "\n",
       "    .dataframe thead th {\n",
       "        text-align: right;\n",
       "    }\n",
       "</style>\n",
       "<table border=\"1\" class=\"dataframe\">\n",
       "  <thead>\n",
       "    <tr style=\"text-align: right;\">\n",
       "      <th></th>\n",
       "      <th>Country</th>\n",
       "      <th>Variable Name</th>\n",
       "      <th>Year</th>\n",
       "      <th>Value</th>\n",
       "    </tr>\n",
       "    <tr>\n",
       "      <th>Index</th>\n",
       "      <th></th>\n",
       "      <th></th>\n",
       "      <th></th>\n",
       "      <th></th>\n",
       "    </tr>\n",
       "  </thead>\n",
       "  <tbody>\n",
       "    <tr>\n",
       "      <th>0</th>\n",
       "      <td>Myanmar</td>\n",
       "      <td>Dependency ratio</td>\n",
       "      <td>1992</td>\n",
       "      <td>14.13</td>\n",
       "    </tr>\n",
       "    <tr>\n",
       "      <th>1</th>\n",
       "      <td>Myanmar</td>\n",
       "      <td>Dependency ratio</td>\n",
       "      <td>1997</td>\n",
       "      <td>14.13</td>\n",
       "    </tr>\n",
       "    <tr>\n",
       "      <th>2</th>\n",
       "      <td>Myanmar</td>\n",
       "      <td>Dependency ratio</td>\n",
       "      <td>2002</td>\n",
       "      <td>14.13</td>\n",
       "    </tr>\n",
       "    <tr>\n",
       "      <th>3</th>\n",
       "      <td>Myanmar</td>\n",
       "      <td>Dependency ratio</td>\n",
       "      <td>2007</td>\n",
       "      <td>14.13</td>\n",
       "    </tr>\n",
       "    <tr>\n",
       "      <th>4</th>\n",
       "      <td>Myanmar</td>\n",
       "      <td>Dependency ratio</td>\n",
       "      <td>2012</td>\n",
       "      <td>14.13</td>\n",
       "    </tr>\n",
       "  </tbody>\n",
       "</table>\n",
       "</div>"
      ],
      "text/plain": [
       "       Country     Variable Name  Year  Value\n",
       "Index                                        \n",
       "0      Myanmar  Dependency ratio  1992  14.13\n",
       "1      Myanmar  Dependency ratio  1997  14.13\n",
       "2      Myanmar  Dependency ratio  2002  14.13\n",
       "3      Myanmar  Dependency ratio  2007  14.13\n",
       "4      Myanmar  Dependency ratio  2012  14.13"
      ]
     },
     "execution_count": 6,
     "metadata": {},
     "output_type": "execute_result"
    }
   ],
   "source": [
    "#use .loc to filter out just rows with country names at head (take out rows at end that don't have data)\n",
    "\n",
    "fao_targets = fao_cleanup.loc[fao_cleanup[\"Area\"].isin([\"Myanmar\",\"Niger\", \"Nigeria\", \"Thailand\"])]\n",
    "\n",
    "fao_targets.index.name = \"Index\"\n",
    "\n",
    "                              \n",
    "fao_final = fao_targets.rename(columns={\"Area\":\"Country\"})\n",
    "\n",
    "#convert year data to integers \n",
    "\n",
    "fao_final[\"Year\"] = fao_final[\"Year\"].astype(int)\n",
    "fao_final\n",
    "\n",
    "\n",
    "# # for country in fao_final:\n",
    "#     if fao_final[\"Value\"] == \"NaN\":\n",
    "#         fao_final[\"Value\"] = 0\n",
    "        \n",
    "# fao_indexed\n",
    "fao_final.head()"
   ]
  },
  {
   "cell_type": "code",
   "execution_count": 7,
   "metadata": {},
   "outputs": [
    {
     "data": {
      "text/html": [
       "<div>\n",
       "<style scoped>\n",
       "    .dataframe tbody tr th:only-of-type {\n",
       "        vertical-align: middle;\n",
       "    }\n",
       "\n",
       "    .dataframe tbody tr th {\n",
       "        vertical-align: top;\n",
       "    }\n",
       "\n",
       "    .dataframe thead th {\n",
       "        text-align: right;\n",
       "    }\n",
       "</style>\n",
       "<table border=\"1\" class=\"dataframe\">\n",
       "  <thead>\n",
       "    <tr style=\"text-align: right;\">\n",
       "      <th></th>\n",
       "      <th>Country</th>\n",
       "      <th>Year</th>\n",
       "      <th>Cholera Cases</th>\n",
       "    </tr>\n",
       "  </thead>\n",
       "  <tbody>\n",
       "    <tr>\n",
       "      <th>4</th>\n",
       "      <td>Myanmar</td>\n",
       "      <td>1960</td>\n",
       "      <td>259</td>\n",
       "    </tr>\n",
       "    <tr>\n",
       "      <th>13</th>\n",
       "      <td>Myanmar</td>\n",
       "      <td>1965</td>\n",
       "      <td>207</td>\n",
       "    </tr>\n",
       "    <tr>\n",
       "      <th>17</th>\n",
       "      <td>Thailand</td>\n",
       "      <td>1965</td>\n",
       "      <td>65</td>\n",
       "    </tr>\n",
       "    <tr>\n",
       "      <th>64</th>\n",
       "      <td>Myanmar</td>\n",
       "      <td>1993</td>\n",
       "      <td>1758</td>\n",
       "    </tr>\n",
       "    <tr>\n",
       "      <th>68</th>\n",
       "      <td>Nigeria</td>\n",
       "      <td>1993</td>\n",
       "      <td>4160</td>\n",
       "    </tr>\n",
       "  </tbody>\n",
       "</table>\n",
       "</div>"
      ],
      "text/plain": [
       "     Country  Year  Cholera Cases\n",
       "4    Myanmar  1960            259\n",
       "13   Myanmar  1965            207\n",
       "17  Thailand  1965             65\n",
       "64   Myanmar  1993           1758\n",
       "68   Nigeria  1993           4160"
      ]
     },
     "execution_count": 7,
     "metadata": {},
     "output_type": "execute_result"
    }
   ],
   "source": [
    "# #selecting data for specific data\n",
    "# #clean_d = clean_df.loc[clean_df[\"COUNTRY (DISPLAY)\"] == \"Nigeria\", :]\n",
    "who_final = clean_df.loc[clean_df[\"COUNTRY (DISPLAY)\"].isin([\"Nigeria\",\"Niger\",\"Myanmar\", \"Thailand\"])]\n",
    "who_final = who_final.rename(columns = {\"COUNTRY (DISPLAY)\": \"Country\", \"YEAR (DISPLAY)\": \"Year\", \"Display Value\": \"Cholera Cases\"})\n",
    "\n",
    "\n",
    "# clean.head()\n",
    "who_final.head()"
   ]
  },
  {
   "cell_type": "code",
   "execution_count": 8,
   "metadata": {},
   "outputs": [
    {
     "data": {
      "text/html": [
       "<div>\n",
       "<style scoped>\n",
       "    .dataframe tbody tr th:only-of-type {\n",
       "        vertical-align: middle;\n",
       "    }\n",
       "\n",
       "    .dataframe tbody tr th {\n",
       "        vertical-align: top;\n",
       "    }\n",
       "\n",
       "    .dataframe thead th {\n",
       "        text-align: right;\n",
       "    }\n",
       "</style>\n",
       "<table border=\"1\" class=\"dataframe\">\n",
       "  <thead>\n",
       "    <tr style=\"text-align: right;\">\n",
       "      <th></th>\n",
       "      <th>Country</th>\n",
       "      <th>Year</th>\n",
       "      <th>Cholera Cases</th>\n",
       "    </tr>\n",
       "  </thead>\n",
       "  <tbody>\n",
       "    <tr>\n",
       "      <th>4</th>\n",
       "      <td>Myanmar</td>\n",
       "      <td>1960</td>\n",
       "      <td>259</td>\n",
       "    </tr>\n",
       "    <tr>\n",
       "      <th>13</th>\n",
       "      <td>Myanmar</td>\n",
       "      <td>1965</td>\n",
       "      <td>207</td>\n",
       "    </tr>\n",
       "    <tr>\n",
       "      <th>17</th>\n",
       "      <td>Thailand</td>\n",
       "      <td>1965</td>\n",
       "      <td>65</td>\n",
       "    </tr>\n",
       "    <tr>\n",
       "      <th>64</th>\n",
       "      <td>Myanmar</td>\n",
       "      <td>1993</td>\n",
       "      <td>1758</td>\n",
       "    </tr>\n",
       "    <tr>\n",
       "      <th>68</th>\n",
       "      <td>Nigeria</td>\n",
       "      <td>1993</td>\n",
       "      <td>4160</td>\n",
       "    </tr>\n",
       "  </tbody>\n",
       "</table>\n",
       "</div>"
      ],
      "text/plain": [
       "     Country  Year  Cholera Cases\n",
       "4    Myanmar  1960            259\n",
       "13   Myanmar  1965            207\n",
       "17  Thailand  1965             65\n",
       "64   Myanmar  1993           1758\n",
       "68   Nigeria  1993           4160"
      ]
     },
     "execution_count": 8,
     "metadata": {},
     "output_type": "execute_result"
    }
   ],
   "source": [
    "who_final = who_final.rename(columns = {\"YEAR (DISPLAY)\": \"Year\", \"COUNTRY (DISPLAY)\": \"Country\"})\n",
    "\n",
    "who_final.head()"
   ]
  },
  {
   "cell_type": "code",
   "execution_count": 9,
   "metadata": {},
   "outputs": [],
   "source": [
    "#merge dataframes to join countries and years and sift out years for which there are no water safety data\n",
    "\n",
    "total_data = pd.merge(who_final, fao_final, on=[\"Year\", \"Country\"],how =\"right\")\n",
    "\n",
    "total_data =total_data.sort_values(\"Year\")\n",
    "\n",
    "# total_data\n",
    "# total_data[\"Variable Name\"].unique()"
   ]
  },
  {
   "cell_type": "code",
   "execution_count": 10,
   "metadata": {},
   "outputs": [
    {
     "data": {
      "text/html": [
       "<div>\n",
       "<style scoped>\n",
       "    .dataframe tbody tr th:only-of-type {\n",
       "        vertical-align: middle;\n",
       "    }\n",
       "\n",
       "    .dataframe tbody tr th {\n",
       "        vertical-align: top;\n",
       "    }\n",
       "\n",
       "    .dataframe thead th {\n",
       "        text-align: right;\n",
       "    }\n",
       "</style>\n",
       "<table border=\"1\" class=\"dataframe\">\n",
       "  <thead>\n",
       "    <tr style=\"text-align: right;\">\n",
       "      <th></th>\n",
       "      <th>Country</th>\n",
       "      <th>Year</th>\n",
       "      <th>Cholera Cases</th>\n",
       "      <th>Variable Name</th>\n",
       "      <th>Value</th>\n",
       "    </tr>\n",
       "  </thead>\n",
       "  <tbody>\n",
       "    <tr>\n",
       "      <th>53</th>\n",
       "      <td>Thailand</td>\n",
       "      <td>1990</td>\n",
       "      <td>0.0</td>\n",
       "      <td>Treated municipal wastewater</td>\n",
       "      <td>0.00</td>\n",
       "    </tr>\n",
       "    <tr>\n",
       "      <th>1</th>\n",
       "      <td>Myanmar</td>\n",
       "      <td>1992</td>\n",
       "      <td>826.0</td>\n",
       "      <td>Dependency ratio</td>\n",
       "      <td>14.13</td>\n",
       "    </tr>\n",
       "    <tr>\n",
       "      <th>2</th>\n",
       "      <td>Myanmar</td>\n",
       "      <td>1992</td>\n",
       "      <td>826.0</td>\n",
       "      <td>Total population with access to safe drinking-...</td>\n",
       "      <td>58.60</td>\n",
       "    </tr>\n",
       "    <tr>\n",
       "      <th>3</th>\n",
       "      <td>Nigeria</td>\n",
       "      <td>1992</td>\n",
       "      <td>8687.0</td>\n",
       "      <td>Dependency ratio</td>\n",
       "      <td>22.78</td>\n",
       "    </tr>\n",
       "    <tr>\n",
       "      <th>4</th>\n",
       "      <td>Nigeria</td>\n",
       "      <td>1992</td>\n",
       "      <td>8687.0</td>\n",
       "      <td>Total population with access to safe drinking-...</td>\n",
       "      <td>42.40</td>\n",
       "    </tr>\n",
       "  </tbody>\n",
       "</table>\n",
       "</div>"
      ],
      "text/plain": [
       "     Country  Year  Cholera Cases  \\\n",
       "53  Thailand  1990            0.0   \n",
       "1    Myanmar  1992          826.0   \n",
       "2    Myanmar  1992          826.0   \n",
       "3    Nigeria  1992         8687.0   \n",
       "4    Nigeria  1992         8687.0   \n",
       "\n",
       "                                        Variable Name  Value  \n",
       "53                       Treated municipal wastewater   0.00  \n",
       "1                                    Dependency ratio  14.13  \n",
       "2   Total population with access to safe drinking-...  58.60  \n",
       "3                                    Dependency ratio  22.78  \n",
       "4   Total population with access to safe drinking-...  42.40  "
      ]
     },
     "execution_count": 10,
     "metadata": {},
     "output_type": "execute_result"
    }
   ],
   "source": [
    "total_data= total_data.fillna(0)\n",
    "# total_data.head()\n",
    "total_data.head()"
   ]
  },
  {
   "cell_type": "code",
   "execution_count": 11,
   "metadata": {},
   "outputs": [
    {
     "data": {
      "text/html": [
       "<div>\n",
       "<style scoped>\n",
       "    .dataframe tbody tr th:only-of-type {\n",
       "        vertical-align: middle;\n",
       "    }\n",
       "\n",
       "    .dataframe tbody tr th {\n",
       "        vertical-align: top;\n",
       "    }\n",
       "\n",
       "    .dataframe thead th {\n",
       "        text-align: right;\n",
       "    }\n",
       "</style>\n",
       "<table border=\"1\" class=\"dataframe\">\n",
       "  <thead>\n",
       "    <tr style=\"text-align: right;\">\n",
       "      <th></th>\n",
       "      <th>Country</th>\n",
       "      <th>Year</th>\n",
       "      <th>Cholera Cases</th>\n",
       "      <th>Variable Name</th>\n",
       "      <th>Value</th>\n",
       "    </tr>\n",
       "  </thead>\n",
       "  <tbody>\n",
       "    <tr>\n",
       "      <th>3</th>\n",
       "      <td>Nigeria</td>\n",
       "      <td>1992</td>\n",
       "      <td>8687.0</td>\n",
       "      <td>Dependency ratio</td>\n",
       "      <td>22.78</td>\n",
       "    </tr>\n",
       "    <tr>\n",
       "      <th>4</th>\n",
       "      <td>Nigeria</td>\n",
       "      <td>1992</td>\n",
       "      <td>8687.0</td>\n",
       "      <td>Total population with access to safe drinking-...</td>\n",
       "      <td>42.40</td>\n",
       "    </tr>\n",
       "    <tr>\n",
       "      <th>14</th>\n",
       "      <td>Nigeria</td>\n",
       "      <td>1997</td>\n",
       "      <td>1322.0</td>\n",
       "      <td>Total population with access to safe drinking-...</td>\n",
       "      <td>48.30</td>\n",
       "    </tr>\n",
       "    <tr>\n",
       "      <th>13</th>\n",
       "      <td>Nigeria</td>\n",
       "      <td>1997</td>\n",
       "      <td>1322.0</td>\n",
       "      <td>Dependency ratio</td>\n",
       "      <td>22.78</td>\n",
       "    </tr>\n",
       "    <tr>\n",
       "      <th>18</th>\n",
       "      <td>Nigeria</td>\n",
       "      <td>2002</td>\n",
       "      <td>5429.0</td>\n",
       "      <td>Total population with access to safe drinking-...</td>\n",
       "      <td>54.20</td>\n",
       "    </tr>\n",
       "    <tr>\n",
       "      <th>17</th>\n",
       "      <td>Nigeria</td>\n",
       "      <td>2002</td>\n",
       "      <td>5429.0</td>\n",
       "      <td>Dependency ratio</td>\n",
       "      <td>22.78</td>\n",
       "    </tr>\n",
       "    <tr>\n",
       "      <th>9</th>\n",
       "      <td>Nigeria</td>\n",
       "      <td>2007</td>\n",
       "      <td>1661.0</td>\n",
       "      <td>Dependency ratio</td>\n",
       "      <td>22.78</td>\n",
       "    </tr>\n",
       "    <tr>\n",
       "      <th>10</th>\n",
       "      <td>Nigeria</td>\n",
       "      <td>2007</td>\n",
       "      <td>1661.0</td>\n",
       "      <td>Total population with access to safe drinking-...</td>\n",
       "      <td>60.10</td>\n",
       "    </tr>\n",
       "    <tr>\n",
       "      <th>23</th>\n",
       "      <td>Nigeria</td>\n",
       "      <td>2012</td>\n",
       "      <td>597.0</td>\n",
       "      <td>Dependency ratio</td>\n",
       "      <td>22.78</td>\n",
       "    </tr>\n",
       "    <tr>\n",
       "      <th>24</th>\n",
       "      <td>Nigeria</td>\n",
       "      <td>2012</td>\n",
       "      <td>597.0</td>\n",
       "      <td>Total population with access to safe drinking-...</td>\n",
       "      <td>65.50</td>\n",
       "    </tr>\n",
       "    <tr>\n",
       "      <th>32</th>\n",
       "      <td>Nigeria</td>\n",
       "      <td>2014</td>\n",
       "      <td>35996.0</td>\n",
       "      <td>Dependency ratio</td>\n",
       "      <td>22.78</td>\n",
       "    </tr>\n",
       "    <tr>\n",
       "      <th>37</th>\n",
       "      <td>Nigeria</td>\n",
       "      <td>2015</td>\n",
       "      <td>5290.0</td>\n",
       "      <td>Total population with access to safe drinking-...</td>\n",
       "      <td>68.50</td>\n",
       "    </tr>\n",
       "  </tbody>\n",
       "</table>\n",
       "</div>"
      ],
      "text/plain": [
       "    Country  Year  Cholera Cases  \\\n",
       "3   Nigeria  1992         8687.0   \n",
       "4   Nigeria  1992         8687.0   \n",
       "14  Nigeria  1997         1322.0   \n",
       "13  Nigeria  1997         1322.0   \n",
       "18  Nigeria  2002         5429.0   \n",
       "17  Nigeria  2002         5429.0   \n",
       "9   Nigeria  2007         1661.0   \n",
       "10  Nigeria  2007         1661.0   \n",
       "23  Nigeria  2012          597.0   \n",
       "24  Nigeria  2012          597.0   \n",
       "32  Nigeria  2014        35996.0   \n",
       "37  Nigeria  2015         5290.0   \n",
       "\n",
       "                                        Variable Name  Value  \n",
       "3                                    Dependency ratio  22.78  \n",
       "4   Total population with access to safe drinking-...  42.40  \n",
       "14  Total population with access to safe drinking-...  48.30  \n",
       "13                                   Dependency ratio  22.78  \n",
       "18  Total population with access to safe drinking-...  54.20  \n",
       "17                                   Dependency ratio  22.78  \n",
       "9                                    Dependency ratio  22.78  \n",
       "10  Total population with access to safe drinking-...  60.10  \n",
       "23                                   Dependency ratio  22.78  \n",
       "24  Total population with access to safe drinking-...  65.50  \n",
       "32                                   Dependency ratio  22.78  \n",
       "37  Total population with access to safe drinking-...  68.50  "
      ]
     },
     "execution_count": 11,
     "metadata": {},
     "output_type": "execute_result"
    }
   ],
   "source": [
    "#for nigeria \n",
    "nigeria_data = total_data.loc[total_data[\"Country\"].isin([\"Nigeria\"])]\n",
    "\n",
    "nigeria_data"
   ]
  },
  {
   "cell_type": "code",
   "execution_count": 12,
   "metadata": {},
   "outputs": [],
   "source": [
    "#For Nigeria - we only have two variables to work with from the FAO data. Creating .locs to sort out the other two below. \n",
    "\n",
    "#loc to filter out dependency data (line)\n",
    "nigeria_dependency = nigeria_data.loc[nigeria_data[\"Variable Name\"].isin([\"Dependency ratio\"])]\n",
    "# nigeria_data = total_data.loc[total_data[\"Country\"].isin([\"Nigeria\"])]\n",
    "nigeria_access = nigeria_data.loc[nigeria_data[\"Variable Name\"].isin([\"Total population with access to safe drinking-water (JMP)\"])]\n"
   ]
  },
  {
   "cell_type": "code",
   "execution_count": 13,
   "metadata": {},
   "outputs": [
    {
     "data": {
      "image/png": "[encoded data removed]",
      "text/plain": [
       "<Figure size 432x288 with 1 Axes>"
      ]
     },
     "metadata": {
      "needs_background": "light"
     },
     "output_type": "display_data"
    }
   ],
   "source": [
    "#plot cholera vs. years\n",
    "x_axis = nigeria_access[\"Year\"]\n",
    "y_axis1 = nigeria_access[\"Cholera Cases\"]\n",
    "# y_axis2 = nigeria_dependency\n",
    "\n",
    "plt.plot(x_axis, y_axis1, marker ='o', color='blue')\n",
    "\n",
    "# Add labels \n",
    "plt.title(\"Cholera Cases in Nigeria by Year\")\n",
    "plt.xlabel(\"Year\")\n",
    "plt.ylabel(\"Cholera cases\")\n",
    "\n",
    "plt.show()\n"
   ]
  },
  {
   "cell_type": "code",
   "execution_count": 14,
   "metadata": {},
   "outputs": [],
   "source": [
    "#For Niger \n",
    "\n",
    "niger_data = total_data.loc[total_data[\"Country\"].isin([\"Niger\"])]\n",
    "\n",
    "#loc to filter out dependency data (line)\n",
    "niger_dependency = niger_data.loc[niger_data[\"Variable Name\"].isin([\"Dependency ratio\"])]\n",
    "\n",
    "niger_access = niger_data.loc[niger_data[\"Variable Name\"].isin([\"Total population with access to safe drinking-water (JMP)\"])]\n"
   ]
  },
  {
   "cell_type": "code",
   "execution_count": 15,
   "metadata": {},
   "outputs": [
    {
     "data": {
      "image/png": "[encoded data removed]",
      "text/plain": [
       "<Figure size 432x288 with 1 Axes>"
      ]
     },
     "metadata": {
      "needs_background": "light"
     },
     "output_type": "display_data"
    }
   ],
   "source": [
    "#plot cholera vs. years\n",
    "x_axis = niger_access[\"Year\"]\n",
    "y_axis1 = niger_access[\"Cholera Cases\"]\n",
    "# y_axis2 = nigeria_dependency\n",
    "\n",
    "plt.plot(x_axis, y_axis1, marker ='o', color='purple')\n",
    "\n",
    "# Add labels \n",
    "plt.title(\"Cholera Cases in Niger by Year\")\n",
    "plt.xlabel(\"Year\")\n",
    "plt.ylabel(\"Cholera cases\")\n",
    "\n",
    "plt.show()\n"
   ]
  },
  {
   "cell_type": "code",
   "execution_count": 16,
   "metadata": {},
   "outputs": [],
   "source": [
    "#For Myanmar \n",
    "\n",
    "myanmar_data = total_data.loc[total_data[\"Country\"].isin([\"Myanmar\"])]\n",
    "\n",
    "#loc to filter out dependency data (line)\n",
    "myanmar_dependency = myanmar_data.loc[myanmar_data[\"Variable Name\"].isin([\"Dependency ratio\"])]\n",
    "\n",
    "myanmar_access = myanmar_data.loc[myanmar_data[\"Variable Name\"].isin([\"Total population with access to safe drinking-water (JMP)\"])]\n"
   ]
  },
  {
   "cell_type": "code",
   "execution_count": 17,
   "metadata": {},
   "outputs": [
    {
     "data": {
      "image/png": "[encoded data removed]",
      "text/plain": [
       "<Figure size 432x288 with 1 Axes>"
      ]
     },
     "metadata": {
      "needs_background": "light"
     },
     "output_type": "display_data"
    }
   ],
   "source": [
    "#plot cholera vs. years\n",
    "x_axis = myanmar_access[\"Year\"]\n",
    "y_axis1 = myanmar_access[\"Cholera Cases\"]\n",
    "# y_axis2 = nigeria_dependency\n",
    "\n",
    "plt.plot(x_axis, y_axis1, marker ='o', color='purple')\n",
    "\n",
    "# Add labels \n",
    "plt.title(\"Cholera Cases in Myanmar by Year\")\n",
    "plt.xlabel(\"Year\")\n",
    "plt.ylabel(\"Cholera cases\")\n",
    "\n",
    "plt.show()\n"
   ]
  },
  {
   "cell_type": "code",
   "execution_count": 18,
   "metadata": {},
   "outputs": [],
   "source": [
    "#For Thailand \n",
    "\n",
    "thailand_data = total_data.loc[total_data[\"Country\"].isin([\"Thailand\"])]\n",
    "\n",
    "#loc to filter out dependency data (line)\n",
    "thailand_dependency = thailand_data.loc[thailand_data[\"Variable Name\"].isin([\"Dependency ratio\"])]\n",
    "\n",
    "thailand_access = thailand_data.loc[thailand_data[\"Variable Name\"].isin([\"Total population with access to safe drinking-water (JMP)\"])]\n"
   ]
  },
  {
   "cell_type": "code",
   "execution_count": 19,
   "metadata": {},
   "outputs": [
    {
     "data": {
      "image/png": "[encoded data removed]",
      "text/plain": [
       "<Figure size 432x288 with 1 Axes>"
      ]
     },
     "metadata": {
      "needs_background": "light"
     },
     "output_type": "display_data"
    }
   ],
   "source": [
    "#plot cholera vs. years\n",
    "x_axis = thailand_access[\"Year\"]\n",
    "y_axis1 = thailand_access[\"Cholera Cases\"]\n",
    "# y_axis2 = nigeria_dependency\n",
    "\n",
    "plt.plot(x_axis, y_axis1, marker ='o', color='purple')\n",
    "\n",
    "# Add labels \n",
    "plt.title(\"Cholera Cases in Thailand by Year\")\n",
    "plt.xlabel(\"Year\")\n",
    "plt.ylabel(\"Cholera cases\")\n",
    "\n",
    "plt.show()\n"
   ]
  },
  {
   "cell_type": "code",
   "execution_count": 20,
   "metadata": {},
   "outputs": [],
   "source": [
    "the_csv = \"Resources/Cholreg.csv\"\n",
    "csv_one_sigma = \"Resources/Cholregonesigma.csv\"\n",
    "miss4 = \"Resources/chol_missing_4.csv\"\n",
    "myan = \"Resources/myanmar.csv\"\n",
    "thai = \"Resources/thailand.csv\"\n",
    "nige = \"Resources/niger.csv\"\n",
    "nigeria = \"Resources/nigeria.csv\"\n",
    "\n",
    "cholera_data = pd.read_csv(the_csv)\n",
    "cholera_sig = pd.read_csv(csv_one_sigma)\n",
    "\n",
    "missing = pd.read_csv(miss4)\n",
    "myanm = pd.read_csv(myan)\n",
    "thail = pd.read_csv(thai)\n",
    "ni = pd.read_csv(nige)\n",
    "nie = pd.read_csv(nigeria)"
   ]
  },
  {
   "cell_type": "code",
   "execution_count": 21,
   "metadata": {},
   "outputs": [
    {
     "data": {
      "text/html": [
       "<div>\n",
       "<style scoped>\n",
       "    .dataframe tbody tr th:only-of-type {\n",
       "        vertical-align: middle;\n",
       "    }\n",
       "\n",
       "    .dataframe tbody tr th {\n",
       "        vertical-align: top;\n",
       "    }\n",
       "\n",
       "    .dataframe thead th {\n",
       "        text-align: right;\n",
       "    }\n",
       "</style>\n",
       "<table border=\"1\" class=\"dataframe\">\n",
       "  <thead>\n",
       "    <tr style=\"text-align: right;\">\n",
       "      <th></th>\n",
       "      <th>Country</th>\n",
       "      <th>Population</th>\n",
       "      <th>Reported Cholera Cases</th>\n",
       "      <th>Cholera Cases Per 100,000 People</th>\n",
       "      <th>Dependency Ratio (%)</th>\n",
       "    </tr>\n",
       "  </thead>\n",
       "  <tbody>\n",
       "    <tr>\n",
       "      <th>0</th>\n",
       "      <td>Afghanistan</td>\n",
       "      <td>31056997</td>\n",
       "      <td>677</td>\n",
       "      <td>2.18</td>\n",
       "      <td>28.7200</td>\n",
       "    </tr>\n",
       "    <tr>\n",
       "      <th>1</th>\n",
       "      <td>Angola</td>\n",
       "      <td>12127071</td>\n",
       "      <td>78</td>\n",
       "      <td>0.64</td>\n",
       "      <td>0.2695</td>\n",
       "    </tr>\n",
       "    <tr>\n",
       "      <th>2</th>\n",
       "      <td>Australia</td>\n",
       "      <td>20264082</td>\n",
       "      <td>1</td>\n",
       "      <td>0.00</td>\n",
       "      <td>0.0000</td>\n",
       "    </tr>\n",
       "    <tr>\n",
       "      <th>3</th>\n",
       "      <td>Benin</td>\n",
       "      <td>7862944</td>\n",
       "      <td>761</td>\n",
       "      <td>9.68</td>\n",
       "      <td>60.9700</td>\n",
       "    </tr>\n",
       "    <tr>\n",
       "      <th>4</th>\n",
       "      <td>Burundi</td>\n",
       "      <td>8090068</td>\n",
       "      <td>434</td>\n",
       "      <td>5.36</td>\n",
       "      <td>19.7500</td>\n",
       "    </tr>\n",
       "  </tbody>\n",
       "</table>\n",
       "</div>"
      ],
      "text/plain": [
       "       Country  Population  Reported Cholera Cases  \\\n",
       "0  Afghanistan    31056997                     677   \n",
       "1       Angola    12127071                      78   \n",
       "2    Australia    20264082                       1   \n",
       "3        Benin     7862944                     761   \n",
       "4      Burundi     8090068                     434   \n",
       "\n",
       "   Cholera Cases Per 100,000 People  Dependency Ratio (%)  \n",
       "0                              2.18               28.7200  \n",
       "1                              0.64                0.2695  \n",
       "2                              0.00                0.0000  \n",
       "3                              9.68               60.9700  \n",
       "4                              5.36               19.7500  "
      ]
     },
     "execution_count": 21,
     "metadata": {},
     "output_type": "execute_result"
    }
   ],
   "source": [
    "cholera_data.head()"
   ]
  },
  {
   "cell_type": "code",
   "execution_count": 22,
   "metadata": {},
   "outputs": [
    {
     "data": {
      "image/png": "[encoded data removed]",
      "text/plain": [
       "<Figure size 432x288 with 1 Axes>"
      ]
     },
     "metadata": {
      "needs_background": "light"
     },
     "output_type": "display_data"
    }
   ],
   "source": [
    "plt.scatter(cholera_data[\"Dependency Ratio (%)\"], cholera_data[\"Cholera Cases Per 100,000 People\"], color = \"grey\", edgecolors=\"black\", label = \"Cholera\", alpha = 0.5, linewidth = 1.5)\n",
    "\n",
    "plt.title(\"Dependency Ratio vs Cholera Cases Per 100,000 people) [2016]\")\n",
    "plt.xlabel(\"Dependency Ratio (%)\")\n",
    "plt.ylabel(\"Cholera Cases Per 100,000 People\")\n",
    "\n",
    "plt.savefig('Figures/Figure_1.png')"
   ]
  },
  {
   "cell_type": "code",
   "execution_count": 23,
   "metadata": {},
   "outputs": [
    {
     "data": {
      "image/png": "[encoded data removed]",
      "text/plain": [
       "<Figure size 432x288 with 1 Axes>"
      ]
     },
     "metadata": {
      "needs_background": "light"
     },
     "output_type": "display_data"
    }
   ],
   "source": [
    "plt.scatter(cholera_data[\"Dependency Ratio (%)\"], cholera_data[\"Cholera Cases Per 100,000 People\"], color = \"grey\", edgecolors=\"black\", label = \"Cholera\", alpha = 0.5, linewidth = 1.5)\n",
    "\n",
    "plt.title(\"Dependency Ratio vs Cholera Cases Per 100,000 people) [2016]\")\n",
    "plt.xlabel(\"Dependency Ratio (%)\")\n",
    "plt.ylabel(\"Cholera Cases Per 100,000 People\")\n",
    "\n",
    "t = np.arange(0.0, 120.0, 20)\n",
    "s = -0.2434*t +  33.301\n",
    "line, = plt.plot(t, s, lw=2)\n",
    "\n",
    "plt.savefig('Figures/Figure_2.png')"
   ]
  },
  {
   "cell_type": "code",
   "execution_count": 24,
   "metadata": {},
   "outputs": [
    {
     "data": {
      "text/html": [
       "<div>\n",
       "<style scoped>\n",
       "    .dataframe tbody tr th:only-of-type {\n",
       "        vertical-align: middle;\n",
       "    }\n",
       "\n",
       "    .dataframe tbody tr th {\n",
       "        vertical-align: top;\n",
       "    }\n",
       "\n",
       "    .dataframe thead th {\n",
       "        text-align: right;\n",
       "    }\n",
       "</style>\n",
       "<table border=\"1\" class=\"dataframe\">\n",
       "  <thead>\n",
       "    <tr style=\"text-align: right;\">\n",
       "      <th></th>\n",
       "      <th>Country</th>\n",
       "      <th>Population</th>\n",
       "      <th>Reported Cholera Cases</th>\n",
       "      <th>Cholera Cases Per 100,000 People</th>\n",
       "      <th>Dependency Ratio (%)</th>\n",
       "    </tr>\n",
       "  </thead>\n",
       "  <tbody>\n",
       "    <tr>\n",
       "      <th>0</th>\n",
       "      <td>Afghanistan</td>\n",
       "      <td>31056997</td>\n",
       "      <td>677</td>\n",
       "      <td>2.18</td>\n",
       "      <td>28.7200</td>\n",
       "    </tr>\n",
       "    <tr>\n",
       "      <th>1</th>\n",
       "      <td>Angola</td>\n",
       "      <td>12127071</td>\n",
       "      <td>78</td>\n",
       "      <td>0.64</td>\n",
       "      <td>0.2695</td>\n",
       "    </tr>\n",
       "    <tr>\n",
       "      <th>2</th>\n",
       "      <td>Australia</td>\n",
       "      <td>20264082</td>\n",
       "      <td>1</td>\n",
       "      <td>0.00</td>\n",
       "      <td>0.0000</td>\n",
       "    </tr>\n",
       "    <tr>\n",
       "      <th>3</th>\n",
       "      <td>Benin</td>\n",
       "      <td>7862944</td>\n",
       "      <td>761</td>\n",
       "      <td>9.68</td>\n",
       "      <td>60.9700</td>\n",
       "    </tr>\n",
       "    <tr>\n",
       "      <th>4</th>\n",
       "      <td>Burundi</td>\n",
       "      <td>8090068</td>\n",
       "      <td>434</td>\n",
       "      <td>5.36</td>\n",
       "      <td>19.7500</td>\n",
       "    </tr>\n",
       "  </tbody>\n",
       "</table>\n",
       "</div>"
      ],
      "text/plain": [
       "       Country  Population  Reported Cholera Cases  \\\n",
       "0  Afghanistan    31056997                     677   \n",
       "1       Angola    12127071                      78   \n",
       "2    Australia    20264082                       1   \n",
       "3        Benin     7862944                     761   \n",
       "4      Burundi     8090068                     434   \n",
       "\n",
       "   Cholera Cases Per 100,000 People  Dependency Ratio (%)  \n",
       "0                              2.18               28.7200  \n",
       "1                              0.64                0.2695  \n",
       "2                              0.00                0.0000  \n",
       "3                              9.68               60.9700  \n",
       "4                              5.36               19.7500  "
      ]
     },
     "execution_count": 24,
     "metadata": {},
     "output_type": "execute_result"
    }
   ],
   "source": [
    "cholera_sig.head()"
   ]
  },
  {
   "cell_type": "code",
   "execution_count": 25,
   "metadata": {},
   "outputs": [
    {
     "data": {
      "image/png": "[encoded data removed]",
      "text/plain": [
       "<Figure size 432x288 with 1 Axes>"
      ]
     },
     "metadata": {
      "needs_background": "light"
     },
     "output_type": "display_data"
    }
   ],
   "source": [
    "plt.scatter(cholera_sig[\"Dependency Ratio (%)\"], cholera_sig[\"Cholera Cases Per 100,000 People\"], color = \"silver\", edgecolors=\"black\", label = \"Cholera\", alpha = 0.5, linewidth = 1.5)\n",
    "\n",
    "plt.title(\"Dependency Ratio vs Cholera Cases (Per 100,000 people) [2016]\")\n",
    "plt.xlabel(\"Dependency Ratio (%)\")\n",
    "plt.ylabel(\"Cholera Cases Per 100,000 People\")\n",
    "\n",
    "plt.savefig('Figures/Figure_3.png')"
   ]
  },
  {
   "cell_type": "code",
   "execution_count": 26,
   "metadata": {},
   "outputs": [
    {
     "data": {
      "image/png": "[encoded data removed]",
      "text/plain": [
       "<Figure size 432x288 with 1 Axes>"
      ]
     },
     "metadata": {
      "needs_background": "light"
     },
     "output_type": "display_data"
    }
   ],
   "source": [
    "plt.scatter(cholera_sig[\"Dependency Ratio (%)\"], cholera_sig[\"Cholera Cases Per 100,000 People\"], color = \"silver\", edgecolors=\"black\", label = \"Cholera\", alpha = 0.5, linewidth = 1.5)\n",
    "\n",
    "plt.title(\"Dependency Ratio vs Cholera Cases (Per 100,000 people) [2016]\")\n",
    "plt.xlabel(\"Dependency Ratio (%)\")\n",
    "plt.ylabel(\"Cholera Cases Per 100,000 People\")\n",
    "\n",
    "t = np.arange(0.0, 120.0, 20)\n",
    "s = 0.0513*t +  3.2596\n",
    "line, = plt.plot(t, s, lw=2)\n",
    "\n",
    "plt.savefig('Figures/Figure_4.png')"
   ]
  },
  {
   "cell_type": "code",
   "execution_count": 27,
   "metadata": {},
   "outputs": [
    {
     "data": {
      "image/png": "[encoded data removed]",
      "text/plain": [
       "<Figure size 432x288 with 1 Axes>"
      ]
     },
     "metadata": {
      "needs_background": "light"
     },
     "output_type": "display_data"
    }
   ],
   "source": [
    "plt.scatter(cholera_sig[\"Dependency Ratio (%)\"], cholera_sig[\"Cholera Cases Per 100,000 People\"], color = \"silver\", edgecolors=\"black\", label = \"Cholera\", alpha = 0.5, linewidth = 1.5)\n",
    "plt.scatter(myanm[\"Dependency Ratio (%)\"], myanm[\"Cholera Cases Per 100,000 People\"], color = \"red\", marker = \"*\", edgecolors=\"black\", label = \"Cholera\", alpha = 0.5, linewidth = 1.5)\n",
    "plt.scatter(thail[\"Dependency Ratio (%)\"], thail[\"Cholera Cases Per 100,000 People\"], color = \"darkorange\", marker = \"*\", edgecolors=\"black\", label = \"Cholera\", alpha = 0.5, linewidth = 1.5)\n",
    "plt.scatter(ni[\"Dependency Ratio (%)\"], ni[\"Cholera Cases Per 100,000 People\"], color = \"blue\", marker = \"*\", edgecolors=\"black\", label = \"Cholera\", alpha = 0.5, linewidth = 1.5)\n",
    "plt.scatter(nie[\"Dependency Ratio (%)\"], nie[\"Cholera Cases Per 100,000 People\"], color = \"forestgreen\", marker = \"*\", edgecolors=\"black\", label = \"Cholera\", alpha = 0.5, linewidth = 1.5)\n",
    "\n",
    "\n",
    "plt.title(\"Dependency Ratio vs Cholera Cases (Per 100,000 people) [2016]\")\n",
    "plt.xlabel(\"Dependency Ratio (%)\")\n",
    "plt.ylabel(\"Cholera Cases Per 100,000 People\")\n",
    "\n",
    "t = np.arange(0.0, 120.0, 20)\n",
    "s = 0.0513*t +  3.2596\n",
    "line, = plt.plot(t, s, lw=2)\n",
    "\n",
    "plt.savefig('Figures/Figure_5')"
   ]
  },
  {
   "cell_type": "code",
   "execution_count": null,
   "metadata": {},
   "outputs": [],
   "source": []
  }
 ],
 "metadata": {
  "kernelspec": {
   "display_name": "Python 3",
   "language": "python",
   "name": "python3"
  },
  "language_info": {
   "codemirror_mode": {
    "name": "ipython",
    "version": 3
   },
   "file_extension": ".py",
   "mimetype": "text/x-python",
   "name": "python",
   "nbconvert_exporter": "python",
   "pygments_lexer": "ipython3",
   "version": "3.6.4"
  }
 },
 "nbformat": 4,
 "nbformat_minor": 2
}
